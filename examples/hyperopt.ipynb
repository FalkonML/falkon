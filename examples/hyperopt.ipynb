{
 "cells": [
  {
   "cell_type": "markdown",
   "id": "16505af2",
   "metadata": {
    "collapsed": false,
    "pycharm": {
     "name": "#%% md\n"
    }
   },
   "source": [
    "# Automatic Hyperparameter Optimization"
   ]
  },
  {
   "cell_type": "code",
   "execution_count": 1,
   "id": "ab47d6b1",
   "metadata": {
    "collapsed": false,
    "pycharm": {
     "name": "#%%\n"
    }
   },
   "outputs": [
    {
     "name": "stdout",
     "output_type": "stream",
     "text": [
      "[pyKeOps]: Warning, no cuda detected. Switching to cpu only.\n"
     ]
    }
   ],
   "source": [
    "%matplotlib inline\n",
    "from sklearn import datasets, model_selection\n",
    "import numpy as np\n",
    "np.random.seed(30)\n",
    "import torch\n",
    "import matplotlib.pyplot as plt\n",
    "plt.style.use('ggplot')"
   ]
  },
  {
   "cell_type": "markdown",
   "id": "7ee63dc4",
   "metadata": {},
   "source": [
    "## Load the data\n",
    "\n",
    "We use the **digits** dataset, which is distributed alongside scikit-learn."
   ]
  },
  {
   "cell_type": "code",
   "execution_count": 2,
   "id": "3da6ecb4",
   "metadata": {},
   "outputs": [],
   "source": [
    "X, Y = datasets.load_digits(return_X_y=True)"
   ]
  },
  {
   "cell_type": "code",
   "execution_count": 3,
   "id": "6b948acf",
   "metadata": {},
   "outputs": [
    {
     "data": {
      "image/png": "[encoded data removed]",
      "text/plain": [
       "<Figure size 648x432 with 3 Axes>"
      ]
     },
     "metadata": {},
     "output_type": "display_data"
    }
   ],
   "source": [
    "def plot_digit(ax, x, y):\n",
    "    ax.imshow(x.reshape((8, 8)), cmap='gray')\n",
    "    ax.set_title(\"Label: %d\" % y)\n",
    "    ax.set_axis_off()\n",
    "\n",
    "# Plot three sample images from the dataset\n",
    "fig, ax = plt.subplots(ncols=3, figsize=(9, 6))\n",
    "plot_digit(ax[0], X[3], Y[3])\n",
    "plot_digit(ax[1], X[10], Y[10])\n",
    "plot_digit(ax[2], X[42], Y[42])"
   ]
  },
  {
   "cell_type": "markdown",
   "id": "0aa131a8",
   "metadata": {},
   "source": [
    "## Split into training and test sets\n",
    "\n",
    "We split the data into a training set with 80% of the samples and a test set with the remaining 20%."
   ]
  },
  {
   "cell_type": "code",
   "execution_count": 4,
   "id": "6b5535cc",
   "metadata": {},
   "outputs": [],
   "source": [
    "X_train, X_test, Y_train, Y_test = model_selection.train_test_split(\n",
    "    X, Y, test_size=0.2, random_state=10, shuffle=True)"
   ]
  },
  {
   "cell_type": "markdown",
   "id": "eef7ac94",
   "metadata": {},
   "source": [
    "## Data Preprocessing\n",
    "\n",
    "As always with Falkon we must:\n",
    " 1. Convert from numpy arrays to torch tensors\n",
    " 2. Convert data and labels to the same data-type (in this case float32)"
   ]
  },
  {
   "cell_type": "code",
   "execution_count": 5,
   "id": "a3a1469f",
   "metadata": {},
   "outputs": [],
   "source": [
    "X_train = torch.from_numpy(X_train).to(dtype=torch.float32)\n",
    "X_test = torch.from_numpy(X_test).to(dtype=torch.float32)\n",
    "Y_train = torch.from_numpy(Y_train)\n",
    "Y_test = torch.from_numpy(Y_test)"
   ]
  },
  {
   "cell_type": "markdown",
   "id": "12fcc9d3",
   "metadata": {},
   "source": [
    "Normalizing the data is always a good idea, and it becomes even more important with automatic hyperparameter optimization. \n",
    "\n",
    "Here we use the global mean and standard deviation of the training set for **z-score normalization**."
   ]
  },
  {
   "cell_type": "code",
   "execution_count": 6,
   "id": "1450e0f7",
   "metadata": {},
   "outputs": [],
   "source": [
    "# z-score normalization\n",
    "train_mean = X_train.mean()\n",
    "train_std = X_train.std()\n",
    "X_train -= train_mean\n",
    "X_train /= train_std\n",
    "X_test -= train_mean\n",
    "X_test /= train_std"
   ]
  },
  {
   "cell_type": "markdown",
   "id": "938d4389",
   "metadata": {},
   "source": [
    "Since Falkon optimizes with respect to the square loss, using ordinal labels (e.g. 1, 4, 5) is not ideal since closeness in the natural numbers is meaningless for classification.\n",
    "\n",
    "We therefore convert the labels to a **1-hot representation**."
   ]
  },
  {
   "cell_type": "code",
   "execution_count": 7,
   "id": "87729460",
   "metadata": {},
   "outputs": [
    {
     "name": "stdout",
     "output_type": "stream",
     "text": [
      "First label vector:  tensor([0., 0., 1., 0., 0., 0., 0., 0., 0., 0.])\n"
     ]
    }
   ],
   "source": [
    "# Convert labels to 1-hot\n",
    "eye = torch.eye(10, dtype=torch.float32)\n",
    "Y_train = eye[Y_train]\n",
    "Y_test = eye[Y_test]\n",
    "print(\"First label vector: \", Y_train[0])"
   ]
  },
  {
   "cell_type": "markdown",
   "id": "66bf3881",
   "metadata": {},
   "source": [
    "## Hyperparameter Optimization\n",
    "\n",
    "The Falkon algorithm has three main kinds of hyper-parameters:\n",
    " 1. The kernel parameters. Most commonly when using the Gaussian kernel these are the length-scales for each dimension in the data\n",
    " 2. The amount of regularization $\\lambda$ (the penalty term, which helps prevent overfitting).\n",
    " 3. The Nystrom centers. These are sometimes not considered hyper parameters, and they are chosen uniformly at random from the training set. However, it is possible to find better centers!\n",
    " \n",
    "In the [grid-search](falkon_cv.ipynb) notebook all three types of hyperparameters are considered, but only with a small number of options in each category.\n",
    "\n",
    "With automatic hyperparameter optimization, which is based on a gradient descent-type procedure, we can instead define a much larger search space for the hyperparameters.\n",
    "\n",
    "In particular, we will optimize the kernel length-scale (one for each dimension in the data), the regularization and the Nystrom centers. Optimizing the Nystrom centers is especially useful since it allows to reduce their number, thus speeding up the whole training and inference process!"
   ]
  },
  {
   "cell_type": "code",
   "execution_count": 8,
   "id": "1ad2b54d",
   "metadata": {},
   "outputs": [],
   "source": [
    "def mclass_loss(true, pred):\n",
    "    true = torch.argmax(true, dim=1)\n",
    "    pred = torch.argmax(pred, dim=1)\n",
    "    return torch.mean((true != pred).to(torch.float32))"
   ]
  },
  {
   "cell_type": "markdown",
   "id": "475c9d14",
   "metadata": {},
   "source": [
    "Several functions and classes used for hyperparameter optimization reside in the `falkon.hopt` module.\n",
    "\n",
    "Here we import the `NystromCompReg` class which defines the optimization objective."
   ]
  },
  {
   "cell_type": "code",
   "execution_count": 9,
   "id": "86095c91",
   "metadata": {},
   "outputs": [],
   "source": [
    "import falkon.hopt\n",
    "from falkon import FalkonOptions\n",
    "from falkon.hopt.objectives import NystromCompReg"
   ]
  },
  {
   "cell_type": "code",
   "execution_count": 10,
   "id": "4e2132fe",
   "metadata": {},
   "outputs": [],
   "source": [
    "flk_opt = FalkonOptions(use_cpu=not torch.cuda.is_available())"
   ]
  },
  {
   "cell_type": "markdown",
   "id": "6b412208",
   "metadata": {},
   "source": [
    "We have to initialize the hyperparameters to some default values. In particular we choose some random initial points from the dataset as the initial Nystrom centers."
   ]
  },
  {
   "cell_type": "code",
   "execution_count": 11,
   "id": "414616aa",
   "metadata": {},
   "outputs": [],
   "source": [
    "sigma_init = torch.tensor([1.0] * X_train.shape[1], dtype=torch.float32).requires_grad_()\n",
    "kernel = falkon.kernels.GaussianKernel(sigma=sigma_init, opt=flk_opt)\n",
    "\n",
    "penalty_init = torch.tensor(1e-5, dtype=torch.float32)\n",
    "centers_init = X_train[np.random.choice(X_train.shape[0], size=(500, ), replace=False)].clone()"
   ]
  },
  {
   "cell_type": "markdown",
   "id": "a311c944",
   "metadata": {},
   "source": [
    "Now we initialize the loss function (`NystromCompReg`) and the optimization algorithm (Adam)."
   ]
  },
  {
   "cell_type": "code",
   "execution_count": 12,
   "id": "38de0fde",
   "metadata": {},
   "outputs": [],
   "source": [
    "model = NystromCompReg(\n",
    "    kernel=kernel, penalty_init=penalty_init, centers_init=centers_init,  # The initial hp values\n",
    "    opt_penalty=True, opt_centers=True,  # Whether the various hps are to be optimized\n",
    "    )\n",
    "opt_hp = torch.optim.Adam(model.parameters(), lr=0.1)"
   ]
  },
  {
   "cell_type": "markdown",
   "id": "e08fae3d",
   "metadata": {},
   "source": [
    "And start training. Each iteration corresponds to a single gradient step over the whole dataset."
   ]
  },
  {
   "cell_type": "code",
   "execution_count": 13,
   "id": "79a9552a",
   "metadata": {
    "scrolled": true
   },
   "outputs": [
    {
     "name": "stdout",
     "output_type": "stream",
     "text": [
      "Epoch 0 Loss 40310.387 Error 1.67%\n",
      "Epoch 1 Loss 35137.203 Error 1.67%\n",
      "Epoch 2 Loss 24207.420 Error 1.74%\n",
      "Epoch 3 Loss 17153.834 Error 2.02%\n",
      "Epoch 4 Loss 12490.971 Error 1.95%\n",
      "Epoch 5 Loss 9343.500 Error 1.67%\n",
      "Epoch 6 Loss 7062.557 Error 1.32%\n",
      "Epoch 7 Loss 5359.402 Error 1.18%\n",
      "Epoch 8 Loss 4108.987 Error 1.04%\n",
      "Epoch 9 Loss 3210.683 Error 0.90%\n",
      "Epoch 10 Loss 2569.709 Error 0.63%\n",
      "Epoch 11 Loss 2121.547 Error 0.49%\n",
      "Epoch 12 Loss 1814.989 Error 0.49%\n",
      "Epoch 13 Loss 1606.087 Error 0.42%\n",
      "Epoch 14 Loss 1460.298 Error 0.42%\n",
      "Epoch 15 Loss 1353.231 Error 0.21%\n",
      "Epoch 16 Loss 1269.496 Error 0.21%\n",
      "Epoch 17 Loss 1199.922 Error 0.14%\n",
      "Epoch 18 Loss 1139.733 Error 0.14%\n",
      "Epoch 19 Loss 1088.957 Error 0.07%\n",
      "Epoch 20 Loss 1043.391 Error 0.07%\n",
      "Epoch 21 Loss 1002.747 Error 0.07%\n",
      "Epoch 22 Loss 966.971 Error 0.07%\n",
      "Epoch 23 Loss 935.513 Error 0.07%\n",
      "Epoch 24 Loss 907.745 Error 0.07%\n",
      "Epoch 25 Loss 883.216 Error 0.07%\n",
      "Epoch 26 Loss 861.607 Error 0.07%\n",
      "Epoch 27 Loss 842.661 Error 0.07%\n",
      "Epoch 28 Loss 826.113 Error 0.07%\n",
      "Epoch 29 Loss 811.653 Error 0.07%\n",
      "Epoch 30 Loss 798.939 Error 0.07%\n",
      "Epoch 31 Loss 787.643 Error 0.07%\n",
      "Epoch 32 Loss 777.481 Error 0.07%\n",
      "Epoch 33 Loss 768.217 Error 0.07%\n",
      "Epoch 34 Loss 759.674 Error 0.07%\n",
      "Epoch 35 Loss 751.720 Error 0.07%\n",
      "Epoch 36 Loss 744.265 Error 0.07%\n",
      "Epoch 37 Loss 737.261 Error 0.07%\n",
      "Epoch 38 Loss 730.671 Error 0.07%\n",
      "Epoch 39 Loss 724.491 Error 0.07%\n",
      "Epoch 40 Loss 718.708 Error 0.07%\n",
      "Epoch 41 Loss 713.325 Error 0.07%\n",
      "Epoch 42 Loss 708.335 Error 0.07%\n",
      "Epoch 43 Loss 703.722 Error 0.07%\n",
      "Epoch 44 Loss 699.472 Error 0.07%\n",
      "Epoch 45 Loss 695.557 Error 0.07%\n",
      "Epoch 46 Loss 691.935 Error 0.00%\n",
      "Epoch 47 Loss 688.580 Error 0.00%\n",
      "Epoch 48 Loss 685.445 Error 0.00%\n",
      "Epoch 49 Loss 682.500 Error 0.00%\n"
     ]
    }
   ],
   "source": [
    "tr_loss, tr_err = [], []\n",
    "\n",
    "for epoch in range(50):\n",
    "    opt_hp.zero_grad()\n",
    "    loss = model(X_train, Y_train)\n",
    "    loss.backward()\n",
    "    opt_hp.step()\n",
    "\n",
    "    tr_loss.append(loss.item())\n",
    "    tr_err.append(mclass_loss(Y_train, model.predict(X_train)))\n",
    "    print(f\"Epoch {epoch} Loss {tr_loss[-1]:.3f} Error {tr_err[-1] * 100:.2f}%\")"
   ]
  },
  {
   "cell_type": "code",
   "execution_count": 14,
   "id": "86d2e2ea",
   "metadata": {},
   "outputs": [
    {
     "name": "stdout",
     "output_type": "stream",
     "text": [
      "Test error: 0.83%\n"
     ]
    }
   ],
   "source": [
    "# Evaluate the test error:\n",
    "ts_preds = model.predict(X_test)\n",
    "print(f\"Test error: {mclass_loss(Y_test, ts_preds) * 100:.2f}%\")"
   ]
  },
  {
   "cell_type": "markdown",
   "id": "89df66d9",
   "metadata": {},
   "source": [
    "The optimized parameters are available as attributes of the `model` object:"
   ]
  },
  {
   "cell_type": "code",
   "execution_count": 15,
   "id": "3fe66880",
   "metadata": {},
   "outputs": [
    {
     "name": "stdout",
     "output_type": "stream",
     "text": [
      "Final value of lambda: 4.428e-05\n",
      "Final value of sigma: tensor([2.3884, 2.6252, 2.7859, 2.7036, 2.6799, 2.7698, 2.7344, 3.0071, 2.5923,\n",
      "        2.7421, 2.7629, 2.7525, 2.6989, 2.7232, 2.8216, 2.8830, 2.6465, 2.7994,\n",
      "        2.7406, 2.7082, 2.8053, 2.6552, 2.7757, 2.6979, 2.3884, 2.7573, 2.7242,\n",
      "        2.6681, 2.7780, 2.7649, 2.7010, 2.7274, 2.3884, 2.6608, 2.7477, 2.7604,\n",
      "        2.8015, 2.7581, 2.6359, 2.3884, 2.8348, 2.7656, 2.6553, 2.6672, 2.7252,\n",
      "        2.7499, 2.6721, 2.6589, 2.9603, 2.7725, 2.7143, 2.7481, 2.7307, 2.7093,\n",
      "        2.7251, 2.7213, 2.6326, 2.6092, 2.7600, 2.7744, 2.7885, 2.6976, 2.6838,\n",
      "        2.7062])\n"
     ]
    }
   ],
   "source": [
    "print(\"Final value of lambda: %.3e\" % (model.penalty))\n",
    "print(\"Final value of sigma: %s\" % (model.kernel.sigma.detach()))"
   ]
  },
  {
   "cell_type": "markdown",
   "id": "1db747ea",
   "metadata": {},
   "source": [
    "We can compare the obtained results with the grid-search notebook.\n",
    "\n",
    "A grid-search with 1000 centers and 32 grid-points resulted in choosing a model with sigma=5, and lambda=1e-7.\n",
    "\n",
    "The `NystromCompReg` objective with half the centers led to obtain a lower test error (0.83% vs. 1.11%) after 50 training epochs. However the obtained hyperparameters are quite different: lambda in particular is much higher at 1.1e-4.\n",
    "\n",
    "This objective in particular has quite a high bias and tends to choose simple models instead of more complex ones (remember that since lambda is a regularizer, it can be seen as one possible measure of model complexity). In practice this is often not a problem, as we observed in this case.\n"
   ]
  }
 ],
 "metadata": {
  "kernelspec": {
   "display_name": "Python 3 (ipykernel)",
   "language": "python",
   "name": "python3"
  },
  "language_info": {
   "codemirror_mode": {
    "name": "ipython",
    "version": 3
   },
   "file_extension": ".py",
   "mimetype": "text/x-python",
   "name": "python",
   "nbconvert_exporter": "python",
   "pygments_lexer": "ipython3",
   "version": "3.9.9"
  },
  "toc": {
   "base_numbering": 1,
   "nav_menu": {},
   "number_sections": true,
   "sideBar": true,
   "skip_h1_title": false,
   "title_cell": "Table of Contents",
   "title_sidebar": "Contents",
   "toc_cell": false,
   "toc_position": {},
   "toc_section_display": true,
   "toc_window_display": false
  }
 },
 "nbformat": 4,
 "nbformat_minor": 5
}
