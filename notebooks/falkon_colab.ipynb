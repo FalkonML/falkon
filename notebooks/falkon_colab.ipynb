{
  "nbformat": 4,
  "nbformat_minor": 0,
  "metadata": {
    "colab": {
      "name": "falkon_colab.ipynb",
      "private_outputs": true,
      "provenance": [],
      "authorship_tag": "ABX9TyNZ1QS3g0v0GPAFwTM9yhjs",
      "include_colab_link": true
    },
    "kernelspec": {
      "name": "python3",
      "display_name": "Python 3"
    },
    "language_info": {
      "name": "python"
    },
    "accelerator": "GPU"
  },
  "cells": [
    {
      "cell_type": "markdown",
      "metadata": {
        "id": "view-in-github",
        "colab_type": "text"
      },
      "source": [
        "<a href=\"https://colab.research.google.com/github/nickprock/falkon/blob/master/notebooks/falkon_colab.ipynb\" target=\"_parent\"><img src=\"https://colab.research.google.com/assets/colab-badge.svg\" alt=\"Open In Colab\"/></a>"
      ]
    },
    {
      "cell_type": "markdown",
      "source": [
        "# Install Falkon on Colab\n",
        "\n",
        "The goal of this notebook is to show how to install Falkon on Colab. Below is also an example of classification on the moons dataset."
      ],
      "metadata": {
        "id": "PAt8YW-_ey2I"
      }
    },
    {
      "cell_type": "code",
      "execution_count": null,
      "metadata": {
        "id": "-4brHgOg9l7o"
      },
      "outputs": [],
      "source": [
        "import torch"
      ]
    },
    {
      "cell_type": "code",
      "source": [
        "torch.cuda.is_available()"
      ],
      "metadata": {
        "id": "1C87Y9mw9pfG"
      },
      "execution_count": null,
      "outputs": []
    },
    {
      "cell_type": "code",
      "source": [
        "!pip install pykeops[colab] > install.log"
      ],
      "metadata": {
        "id": "E9Q3JFN1zPTK"
      },
      "execution_count": null,
      "outputs": []
    },
    {
      "cell_type": "code",
      "source": [
        "!git clone --recurse-submodules https://github.com/FalkonML/falkon.git"
      ],
      "metadata": {
        "id": "oPwatRtV9wqm"
      },
      "execution_count": null,
      "outputs": []
    },
    {
      "cell_type": "code",
      "source": [
        "!cd falkon/\n",
        "!pip install falkon/keops/"
      ],
      "metadata": {
        "id": "fpGvzJod-AzF"
      },
      "execution_count": null,
      "outputs": []
    },
    {
      "cell_type": "code",
      "source": [
        "!pip install falkon/"
      ],
      "metadata": {
        "id": "CcHpqo_1-IAl"
      },
      "execution_count": null,
      "outputs": []
    },
    {
      "cell_type": "markdown",
      "source": [
        "## Binary Classification\n",
        "\n",
        "In this example, two kernels were compared to classify the moons dataset. For more information about model hyperparameters read the [official documentation](https://falkonml.github.io/falkon/index.html)."
      ],
      "metadata": {
        "id": "31680Dg4f2Gl"
      }
    },
    {
      "cell_type": "code",
      "source": [
        "from sklearn.datasets import make_moons\n",
        "from sklearn.model_selection import train_test_split\n",
        "import numpy as np\n",
        "import matplotlib.pyplot as plt\n",
        "plt.style.use('ggplot')\n",
        "\n",
        "import falkon"
      ],
      "metadata": {
        "id": "AB3_f-9X-MKF"
      },
      "execution_count": null,
      "outputs": []
    },
    {
      "cell_type": "markdown",
      "source": [
        "### Generate the dataset"
      ],
      "metadata": {
        "id": "9EhkEmpWgFO2"
      }
    },
    {
      "cell_type": "code",
      "source": [
        "X, Y = make_moons(n_samples=100000, noise = 0.1,random_state=42)"
      ],
      "metadata": {
        "id": "praiZkqhFyPn"
      },
      "execution_count": null,
      "outputs": []
    },
    {
      "cell_type": "code",
      "source": [
        "fig, ax = plt.subplots(figsize=(7, 7))\n",
        "ax.scatter(X[Y == 0,0], X[Y == 0,1], alpha=0.1, marker='.')\n",
        "_ = ax.scatter(X[Y == 1,0], X[Y == 1,1], alpha=0.1, marker='.')"
      ],
      "metadata": {
        "id": "IdFngq646Ioj"
      },
      "execution_count": null,
      "outputs": []
    },
    {
      "cell_type": "markdown",
      "source": [
        "### Train-Test split and Data Preprocessing\n",
        "\n",
        "For more informations on data preprocessing read the [docs](https://falkonml.github.io/falkon/examples/logistic_falkon.html#Data-Preprocessing)."
      ],
      "metadata": {
        "id": "NyvhQl_Fg848"
      }
    },
    {
      "cell_type": "code",
      "source": [
        "X_train, X_test, Y_train, Y_test = train_test_split(X, Y, test_size=0.3, random_state=42, shuffle=True)"
      ],
      "metadata": {
        "id": "udV5JIiiGmH5"
      },
      "execution_count": null,
      "outputs": []
    },
    {
      "cell_type": "code",
      "source": [
        "X_train = torch.from_numpy(X_train).to(dtype=torch.float32)\n",
        "X_test = torch.from_numpy(X_test).to(dtype=torch.float32)\n",
        "Y_train = torch.from_numpy(Y_train).to(dtype=torch.float32).reshape(-1, 1)\n",
        "Y_test = torch.from_numpy(Y_test).to(dtype=torch.float32).reshape(-1, 1)"
      ],
      "metadata": {
        "id": "4d20tOPBF3hH"
      },
      "execution_count": null,
      "outputs": []
    },
    {
      "cell_type": "code",
      "source": [
        "Y_train[Y_train == 0] = -1\n",
        "Y_test[Y_test == 0] = -1"
      ],
      "metadata": {
        "id": "J4-fi5dmGA0X"
      },
      "execution_count": null,
      "outputs": []
    },
    {
      "cell_type": "markdown",
      "source": [
        "### Define the Falkon Model\n",
        "\n",
        "We compare two kernels with the same hyperparameters."
      ],
      "metadata": {
        "id": "LT7h8yLihSDQ"
      }
    },
    {
      "cell_type": "code",
      "source": [
        "def binary_loss(true, pred):\n",
        "    return torch.mean((true != torch.sign(pred)).to(torch.float32))"
      ],
      "metadata": {
        "id": "Y3X-M3AWGED3"
      },
      "execution_count": null,
      "outputs": []
    },
    {
      "cell_type": "code",
      "source": [
        "options = falkon.FalkonOptions(use_cpu=True)"
      ],
      "metadata": {
        "id": "KecZ1UHAolZv"
      },
      "execution_count": null,
      "outputs": []
    },
    {
      "cell_type": "code",
      "source": [
        "flk_Gaussian = falkon.Falkon(kernel=falkon.kernels.GaussianKernel( sigma=5), penalty=1e-5, M=1000, options=options)\n",
        "flk_Gaussian.fit(X_train, Y_train)"
      ],
      "metadata": {
        "id": "BStkBQugGMbQ"
      },
      "execution_count": null,
      "outputs": []
    },
    {
      "cell_type": "code",
      "source": [
        "flk_Laplacian = falkon.Falkon(kernel=falkon.kernels.LaplacianKernel( sigma=5), penalty=1e-5, M=1000, options=options)\n",
        "flk_Laplacian.fit(X_train, Y_train)"
      ],
      "metadata": {
        "id": "y1qt9s45Z10y"
      },
      "execution_count": null,
      "outputs": []
    },
    {
      "cell_type": "markdown",
      "source": [
        "### Test"
      ],
      "metadata": {
        "id": "jaZuXU3Yh0kM"
      }
    },
    {
      "cell_type": "code",
      "source": [
        "predsG = flk_Gaussian.predict(X_test)\n",
        "test_err = binary_loss(Y_test, predsG)\n",
        "print(\"Error: %.2f%%\" % (test_err*100))"
      ],
      "metadata": {
        "id": "Ng87LaRyIUwW"
      },
      "execution_count": null,
      "outputs": []
    },
    {
      "cell_type": "code",
      "source": [
        "predsL = flk_Laplacian.predict(X_test)\n",
        "test_err = binary_loss(Y_test, predsL)\n",
        "print(\"Error: %.2f%%\" % (test_err*100))"
      ],
      "metadata": {
        "id": "gtMCegNeZ2Lj"
      },
      "execution_count": null,
      "outputs": []
    },
    {
      "cell_type": "markdown",
      "source": [
        "### Plot the results"
      ],
      "metadata": {
        "id": "s5mY4G8-h3U0"
      }
    },
    {
      "cell_type": "code",
      "source": [
        "def plot_predictions(preds, ax):\n",
        "    ax.scatter(X_test[((Y_test == -1) & (preds.sign() == Y_test)).reshape(-1), 0],\n",
        "               X_test[((Y_test == -1) & (preds.sign() == Y_test)).reshape(-1), 1],\n",
        "               alpha=0.1, marker='.', color='b')\n",
        "    ax.scatter(X_test[((Y_test == 1) & (preds.sign() == Y_test)).reshape(-1),0],\n",
        "               X_test[((Y_test == 1) & (preds.sign() == Y_test)).reshape(-1),1],\n",
        "               alpha=0.1, marker='.', color='r')\n",
        "\n",
        "    ax.scatter(X_test[((Y_test == -1) & (preds.sign() != Y_test)).reshape(-1), 0],\n",
        "               X_test[((Y_test == -1) & (preds.sign() != Y_test)).reshape(-1), 1],\n",
        "               alpha=0.2, marker='x', color='green')\n",
        "    ax.scatter(X_test[((Y_test == 1) & (preds.sign() != Y_test)).reshape(-1),0],\n",
        "               X_test[((Y_test == 1) & (preds.sign() != Y_test)).reshape(-1),1],\n",
        "               alpha=0.2, marker='x', color='gold')\n"
      ],
      "metadata": {
        "id": "-Ia5cy6IYKAx"
      },
      "execution_count": null,
      "outputs": []
    },
    {
      "cell_type": "code",
      "source": [
        "fig, ax = plt.subplots(ncols=2, figsize=(13, 5))\n",
        "plot_predictions(predsG, ax[0])\n",
        "ax[0].set_title(\"Gaussian\")\n",
        "plot_predictions(predsL, ax[1])\n",
        "_ = ax[1].set_title(\"Laplacian\")"
      ],
      "metadata": {
        "id": "91FJWAeAYTaJ"
      },
      "execution_count": null,
      "outputs": []
    }
  ]
}