{
 "cells": [
  {
   "cell_type": "markdown",
   "metadata": {},
   "source": [
    "# Basic Kernel Ridge Regression with FALKON\n",
    "\n",
    "This notebook shows the steps needed to solve a basic regression problem using approximate KRR with the FALKON algorithm.\n",
    "\n",
    "We start by generating the data then we define the model train it and finally validate the model on unseen data."
   ]
  },
  {
   "cell_type": "code",
   "execution_count": 2,
   "metadata": {},
   "outputs": [],
   "source": [
    "%matplotlib inline\n",
    "import matplotlib.pyplot as plt\n",
    "import numpy as np\n",
    "import torch\n",
    "\n",
    "from falkon import Falkon, kernels"
   ]
  },
  {
   "cell_type": "markdown",
   "metadata": {},
   "source": [
    "## Dataset creation\n",
    "\n",
    "Create a synthetic dataset with 1000 points. 100 points are saved for testing.\n",
    "\n",
    "We need to convert the numpy arrays to `torch.Tensor` objects before passing them to Falkon."
   ]
  },
  {
   "cell_type": "code",
   "execution_count": 139,
   "metadata": {},
   "outputs": [
    {
     "data": {
      "image/png": "[encoded data removed]",
      "text/plain": [
       "<Figure size 432x288 with 1 Axes>"
      ]
     },
     "metadata": {
      "needs_background": "light"
     },
     "output_type": "display_data"
    }
   ],
   "source": [
    "X = np.random.random((1000, 1))\n",
    "Y_true = np.cos(X*9) + np.sin(X*2) - np.exp(X/23)\n",
    "Y = Y_true + np.random.normal(loc=0, scale=0.15, size=(1000, 1))\n",
    "\n",
    "_ = plt.plot(X, Y, 'kx', mew=2)"
   ]
  },
  {
   "cell_type": "code",
   "execution_count": 140,
   "metadata": {},
   "outputs": [],
   "source": [
    "Xtr = torch.from_numpy(X[:900])\n",
    "Ytr = torch.from_numpy(Y[:900])\n",
    "Xts = torch.from_numpy(X[900:])\n",
    "Yts = torch.from_numpy(Y[900:])"
   ]
  },
  {
   "cell_type": "markdown",
   "metadata": {},
   "source": [
    "## Choose a kernel\n",
    "\n",
    "Currently very few kernels are implemented in Falkon, although this will likely change in the future.\n",
    "In this notebook we will use the **Gaussian kernel** which is one of the most commonly used kernel functions since it imposes a smooth prior over the learned function approximation.\n",
    "\n",
    "The Gaussian kernel is parametrized by the lengthscale: a scalar parameter which should depend on the distance between data-points. We will later find the best value for this parameter with cross-validation, but for now we set it to an initial guess."
   ]
  },
  {
   "cell_type": "code",
   "execution_count": 141,
   "metadata": {},
   "outputs": [],
   "source": [
    "sigma = 0.1\n",
    "k = kernels.GaussianKernel(sigma)"
   ]
  },
  {
   "cell_type": "markdown",
   "metadata": {},
   "source": [
    "## Create the model\n",
    "Here we have to decide the model's parameters. Other than the kernel there are two very important parameters:\n",
    "\n",
    "`M` determines the number of centers for the Nystroem approximation. A higher value of M will produce a better approximation of the full kernel-ridge regression at the expense of more computations.\n",
    "The choice of `M` will then depend on the complexity of the problem and on the amount of time and memory available. Very complex problems will typically achieve better performance with more centers. \n",
    "For our toy dataset we can use very few centers without seeing any performance degradation.\n",
    "\n",
    "`penalty` controls the amount of penalization to be applied to the simple least-squares problem. Higher values of `penalty` can reduce overfitting. The best value can be determined with cross-validation.\n",
    "\n",
    "We also define the error function to be the mean-squared error. This is only used for reporting the error at each iteration and does not modify the algorithm in any way."
   ]
  },
  {
   "cell_type": "code",
   "execution_count": 142,
   "metadata": {},
   "outputs": [],
   "source": [
    "def mean_squared_error(true, pred):\n",
    "    return np.mean((true.numpy() - pred.numpy())**2)\n",
    "\n",
    "model = Falkon(\n",
    "    M=50,\n",
    "    penalty=1e-5,\n",
    "    kernel=k,\n",
    "    seed=19,\n",
    "    error_fn=mean_squared_error\n",
    ")"
   ]
  },
  {
   "cell_type": "markdown",
   "metadata": {},
   "source": [
    "## Fit the model\n",
    "Calling the `fit` method on the model performs parameter estimation. Given we have very little data this will be extremely fast even without having a GPU."
   ]
  },
  {
   "cell_type": "code",
   "execution_count": 146,
   "metadata": {},
   "outputs": [
    {
     "name": "stdout",
     "output_type": "stream",
     "text": [
      "MainProcess.MainThread::[Calcuating Preconditioner of size 50]\n",
      "MainProcess.MainThread::[Calcuating Preconditioner of size 50] complete in 0.002s\n",
      "MainProcess.MainThread::[Computing Falkon iterations]\n",
      "Iteration   1 - Elapsed 0.0s - training error: 0.5752\n",
      "Iteration   2 - Elapsed 0.0s - training error: 0.5294\n",
      "Iteration   3 - Elapsed 0.0s - training error: 0.4652\n",
      "Iteration   4 - Elapsed 0.1s - training error: 0.2624\n",
      "Iteration   5 - Elapsed 0.1s - training error: 0.1175\n",
      "Iteration   6 - Elapsed 0.1s - training error: 0.0936\n",
      "Iteration   7 - Elapsed 0.1s - training error: 0.0891\n",
      "Iteration   8 - Elapsed 0.1s - training error: 0.0829\n",
      "Iteration   9 - Elapsed 0.1s - training error: 0.0590\n",
      "Iteration  10 - Elapsed 0.2s - training error: 0.0365\n",
      "Iteration  11 - Elapsed 0.2s - training error: 0.0323\n",
      "Iteration  12 - Elapsed 0.2s - training error: 0.0315\n",
      "Iteration  13 - Elapsed 0.2s - training error: 0.0308\n",
      "Iteration  14 - Elapsed 0.2s - training error: 0.0278\n",
      "Iteration  15 - Elapsed 0.2s - training error: 0.0246\n",
      "Iteration  16 - Elapsed 0.2s - training error: 0.0239\n",
      "Iteration  17 - Elapsed 0.3s - training error: 0.0238\n",
      "Iteration  18 - Elapsed 0.3s - training error: 0.0237\n",
      "Iteration  19 - Elapsed 0.3s - training error: 0.0231\n",
      "Iteration  20 - Elapsed 0.3s - training error: 0.0224\n",
      "MainProcess.MainThread::[Computing Falkon iterations] complete in 0.627s\n"
     ]
    },
    {
     "data": {
      "text/plain": [
       "Falkon(M=50,\n",
       "       center_selection=<falkon.center_selection.UniformSel object at 0x7f7bac084550>,\n",
       "       chol_block_size=256, chol_force_in_core=False, chol_force_ooc=False,\n",
       "       chol_tile_size='auto', compute_arch_speed=False,\n",
       "       cpu_preconditioner=False, error_every=1,\n",
       "       error_fn=<function mean_squared_error at 0x7f7badda1a60>,\n",
       "       final_type=torch.float64, gpu_use_processes=False,\n",
       "       inter_t...nel(sigma=0.1),\n",
       "       max_cpu_mem=inf, max_gpu_mem=inf, maxiter=20, mb_size=128,\n",
       "       opt_tolerance=1e-07,\n",
       "       optim=<falkon.optim.conjgrad.FalkonConjugateGradient object at 0x7f7bac084630>,\n",
       "       pc_epsilon={torch.float32: 1e-05, torch.float64: 1e-13}, penalty=1e-05,\n",
       "       precond=<falkon.precond.cholprec.FalkonPreconditioner object at 0x7f7bac074160>,\n",
       "       seed=19, step_size='1/sqrt', use_cpu=True)"
      ]
     },
     "execution_count": 146,
     "metadata": {},
     "output_type": "execute_result"
    }
   ],
   "source": [
    "model.fit(Xtr, Ytr)"
   ]
  },
  {
   "cell_type": "markdown",
   "metadata": {},
   "source": [
    "## Make predictions\n",
    "\n",
    "By calling the `predict` method on the model we can obtain predictions for the test data.\n",
    "We calculate the MSE on the test data to be similar to that on the training data, which is a good indication that we have obtained a good fit. \n",
    "Plotting the predictions reveals that indeed we have managed to smooth out the noise in the original dataset"
   ]
  },
  {
   "cell_type": "code",
   "execution_count": 147,
   "metadata": {},
   "outputs": [
    {
     "name": "stdout",
     "output_type": "stream",
     "text": [
      "Test MSE: 0.0195\n"
     ]
    }
   ],
   "source": [
    "preds = model.predict(Xts)\n",
    "test_err = mean_squared_error(Yts, preds)\n",
    "print(\"Test MSE: %.4f\" % (test_err))"
   ]
  },
  {
   "cell_type": "code",
   "execution_count": 148,
   "metadata": {},
   "outputs": [
    {
     "data": {
      "image/png": "[encoded data removed]",
      "text/plain": [
       "<Figure size 432x288 with 1 Axes>"
      ]
     },
     "metadata": {
      "needs_background": "light"
     },
     "output_type": "display_data"
    }
   ],
   "source": [
    "fig, ax = plt.subplots()\n",
    "ax.plot(Xts, Yts, 'kx', mew=2)\n",
    "_ = ax.plot(Xts, preds, 'r.')"
   ]
  },
  {
   "cell_type": "markdown",
   "metadata": {},
   "source": [
    "## Cross validation\n",
    "We can use cross-validation to determine the best parameters. Here we use it to estimate a good lengthscale parameter for our Gaussian kernel.\n",
    "\n",
    "We find that our initial choice of sigma was the best among the combinations tested."
   ]
  },
  {
   "cell_type": "code",
   "execution_count": 149,
   "metadata": {
    "scrolled": true
   },
   "outputs": [
    {
     "name": "stdout",
     "output_type": "stream",
     "text": [
      "MainProcess.MainThread::[Calcuating Preconditioner of size 50]\n",
      "MainProcess.MainThread::[Calcuating Preconditioner of size 50] complete in 0.001s\n",
      "MainProcess.MainThread::[Computing Falkon iterations]\n",
      "MainProcess.MainThread::[Computing Falkon iterations] complete in 0.312s\n",
      "MainProcess.MainThread::[Calcuating Preconditioner of size 50]\n",
      "MainProcess.MainThread::[Calcuating Preconditioner of size 50] complete in 0.001s\n",
      "MainProcess.MainThread::[Computing Falkon iterations]\n",
      "MainProcess.MainThread::[Computing Falkon iterations] complete in 0.296s\n",
      "MainProcess.MainThread::[Calcuating Preconditioner of size 50]\n",
      "MainProcess.MainThread::[Calcuating Preconditioner of size 50] complete in 0.001s\n",
      "MainProcess.MainThread::[Computing Falkon iterations]\n",
      "MainProcess.MainThread::[Computing Falkon iterations] complete in 0.302s\n",
      "MainProcess.MainThread::[Calcuating Preconditioner of size 50]\n",
      "MainProcess.MainThread::[Calcuating Preconditioner of size 50] complete in 0.001s\n",
      "MainProcess.MainThread::[Computing Falkon iterations]\n",
      "MainProcess.MainThread::[Computing Falkon iterations] complete in 0.303s\n",
      "MainProcess.MainThread::[Calcuating Preconditioner of size 50]\n",
      "MainProcess.MainThread::[Calcuating Preconditioner of size 50] complete in 0.001s\n",
      "MainProcess.MainThread::[Computing Falkon iterations]\n",
      "MainProcess.MainThread::[Computing Falkon iterations] complete in 0.315s\n",
      "MainProcess.MainThread::[Calcuating Preconditioner of size 50]\n",
      "MainProcess.MainThread::[Calcuating Preconditioner of size 50] complete in 0.001s\n",
      "MainProcess.MainThread::[Computing Falkon iterations]\n",
      "MainProcess.MainThread::[Computing Falkon iterations] complete in 0.291s\n",
      "MainProcess.MainThread::[Calcuating Preconditioner of size 50]\n",
      "MainProcess.MainThread::[Calcuating Preconditioner of size 50] complete in 0.001s\n",
      "MainProcess.MainThread::[Computing Falkon iterations]\n",
      "MainProcess.MainThread::[Computing Falkon iterations] complete in 0.294s\n",
      "MainProcess.MainThread::[Calcuating Preconditioner of size 50]\n",
      "MainProcess.MainThread::[Calcuating Preconditioner of size 50] complete in 0.002s\n",
      "MainProcess.MainThread::[Computing Falkon iterations]\n",
      "MainProcess.MainThread::[Computing Falkon iterations] complete in 0.287s\n",
      "MainProcess.MainThread::[Calcuating Preconditioner of size 50]\n",
      "MainProcess.MainThread::[Calcuating Preconditioner of size 50] complete in 0.001s\n",
      "MainProcess.MainThread::[Computing Falkon iterations]\n",
      "MainProcess.MainThread::[Computing Falkon iterations] complete in 0.295s\n",
      "MainProcess.MainThread::[Calcuating Preconditioner of size 50]\n",
      "MainProcess.MainThread::[Calcuating Preconditioner of size 50] complete in 0.001s\n",
      "MainProcess.MainThread::[Computing Falkon iterations]\n",
      "MainProcess.MainThread::[Computing Falkon iterations] complete in 0.296s\n",
      "MainProcess.MainThread::[Calcuating Preconditioner of size 50]\n",
      "MainProcess.MainThread::[Calcuating Preconditioner of size 50] complete in 0.001s\n",
      "MainProcess.MainThread::[Computing Falkon iterations]\n",
      "Stopping conjugate gradient descent at iteration 17. Solution has converged.\n",
      "MainProcess.MainThread::[Computing Falkon iterations] complete in 0.237s\n",
      "MainProcess.MainThread::[Calcuating Preconditioner of size 50]\n",
      "MainProcess.MainThread::[Calcuating Preconditioner of size 50] complete in 0.001s\n",
      "MainProcess.MainThread::[Computing Falkon iterations]\n",
      "Stopping conjugate gradient descent at iteration 7. Solution has converged.\n",
      "MainProcess.MainThread::[Computing Falkon iterations] complete in 0.103s\n",
      "MainProcess.MainThread::[Calcuating Preconditioner of size 50]\n",
      "MainProcess.MainThread::[Calcuating Preconditioner of size 50] complete in 0.001s\n",
      "MainProcess.MainThread::[Computing Falkon iterations]\n",
      "Stopping conjugate gradient descent at iteration 8. Solution has converged.\n",
      "MainProcess.MainThread::[Computing Falkon iterations] complete in 0.116s\n",
      "MainProcess.MainThread::[Calcuating Preconditioner of size 50]\n",
      "MainProcess.MainThread::[Calcuating Preconditioner of size 50] complete in 0.001s\n",
      "MainProcess.MainThread::[Computing Falkon iterations]\n",
      "Stopping conjugate gradient descent at iteration 8. Solution has converged.\n",
      "MainProcess.MainThread::[Computing Falkon iterations] complete in 0.128s\n",
      "MainProcess.MainThread::[Calcuating Preconditioner of size 50]\n",
      "MainProcess.MainThread::[Calcuating Preconditioner of size 50] complete in 0.001s\n",
      "MainProcess.MainThread::[Computing Falkon iterations]\n",
      "Stopping conjugate gradient descent at iteration 7. Solution has converged.\n",
      "MainProcess.MainThread::[Computing Falkon iterations] complete in 0.102s\n",
      "MainProcess.MainThread::[Calcuating Preconditioner of size 50]\n",
      "MainProcess.MainThread::[Calcuating Preconditioner of size 50] complete in 0.001s\n",
      "MainProcess.MainThread::[Computing Falkon iterations]\n",
      "Stopping conjugate gradient descent at iteration 6. Solution has converged.\n",
      "MainProcess.MainThread::[Computing Falkon iterations] complete in 0.093s\n",
      "MainProcess.MainThread::[Calcuating Preconditioner of size 50]\n",
      "MainProcess.MainThread::[Calcuating Preconditioner of size 50] complete in 0.001s\n",
      "MainProcess.MainThread::[Computing Falkon iterations]\n",
      "Stopping conjugate gradient descent at iteration 3. Solution has converged.\n",
      "MainProcess.MainThread::[Computing Falkon iterations] complete in 0.056s\n",
      "MainProcess.MainThread::[Calcuating Preconditioner of size 50]\n",
      "MainProcess.MainThread::[Calcuating Preconditioner of size 50] complete in 0.001s\n",
      "MainProcess.MainThread::[Computing Falkon iterations]\n",
      "Stopping conjugate gradient descent at iteration 5. Solution has converged.\n",
      "MainProcess.MainThread::[Computing Falkon iterations] complete in 0.080s\n",
      "MainProcess.MainThread::[Calcuating Preconditioner of size 50]\n",
      "MainProcess.MainThread::[Calcuating Preconditioner of size 50] complete in 0.001s\n",
      "MainProcess.MainThread::[Computing Falkon iterations]\n",
      "Stopping conjugate gradient descent at iteration 4. Solution has converged.\n",
      "MainProcess.MainThread::[Computing Falkon iterations] complete in 0.070s\n",
      "MainProcess.MainThread::[Calcuating Preconditioner of size 50]\n",
      "MainProcess.MainThread::[Calcuating Preconditioner of size 50] complete in 0.001s\n",
      "MainProcess.MainThread::[Computing Falkon iterations]\n",
      "Stopping conjugate gradient descent at iteration 5. Solution has converged.\n",
      "MainProcess.MainThread::[Computing Falkon iterations] complete in 0.083s\n"
     ]
    }
   ],
   "source": [
    "from sklearn import model_selection\n",
    "splitter = model_selection.KFold(5)\n",
    "\n",
    "sigma_candidates = [0.01, 0.1, 1.0, 10]\n",
    "errors = []\n",
    "\n",
    "for sigma in sigma_candidates:\n",
    "    k = kernels.GaussianKernel(sigma)\n",
    "    model = Falkon(\n",
    "        M=50,\n",
    "        penalty=1e-5,\n",
    "        kernel=k,\n",
    "        seed=18\n",
    "    )\n",
    "    \n",
    "    iter_errors = []\n",
    "    for tr_idx, val_idx in splitter.split(Xtr):\n",
    "        model.fit(Xtr[tr_idx], Ytr[tr_idx])\n",
    "        err = mean_squared_error(Ytr[val_idx], model.predict(Xtr[val_idx]))\n",
    "        iter_errors.append(err)\n",
    "    errors.append(np.mean(iter_errors))"
   ]
  },
  {
   "cell_type": "code",
   "execution_count": 151,
   "metadata": {},
   "outputs": [
    {
     "name": "stdout",
     "output_type": "stream",
     "text": [
      "Sigma 0.010000 - MSE 0.198599\n",
      "Sigma 0.100000 - MSE 0.022833\n",
      "Sigma 1.000000 - MSE 0.091269\n",
      "Sigma 10.000000 - MSE 0.504611\n"
     ]
    }
   ],
   "source": [
    "for s, e in zip(sigma_candidates, errors):\n",
    "    print(\"Sigma %f - MSE %f\" % (s, e))"
   ]
  }
 ],
 "metadata": {
  "kernelspec": {
   "display_name": "Python 3",
   "language": "python",
   "name": "python3"
  },
  "language_info": {
   "codemirror_mode": {
    "name": "ipython",
    "version": 3
   },
   "file_extension": ".py",
   "mimetype": "text/x-python",
   "name": "python",
   "nbconvert_exporter": "python",
   "pygments_lexer": "ipython3",
   "version": "3.7.6"
  },
  "toc": {
   "base_numbering": 1,
   "nav_menu": {},
   "number_sections": true,
   "sideBar": true,
   "skip_h1_title": false,
   "title_cell": "Table of Contents",
   "title_sidebar": "Contents",
   "toc_cell": false,
   "toc_position": {},
   "toc_section_display": true,
   "toc_window_display": false
  }
 },
 "nbformat": 4,
 "nbformat_minor": 2
}
